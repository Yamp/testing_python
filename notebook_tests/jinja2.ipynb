{
 "cells": [
  {
   "cell_type": "code",
   "execution_count": 41,
   "metadata": {},
   "outputs": [
    {
     "name": "stdout",
     "output_type": "stream",
     "text": [
      "\n",
      "   hostname localhost\n",
      "   ip address 10.10.10.12\n",
      "   date 2020-04-23 19:11:13.717962\n",
      "   process 100\n"
     ]
    }
   ],
   "source": [
    "from jinja2 import Template\n",
    "from datetime import datetime\n",
    "template = Template('''\n",
    "   hostname {{name}}\n",
    "   ip address {{ip}}\n",
    "   date {{date}}\n",
    "   process {{process | default(100)}}\n",
    "''')\n",
    "data = {\n",
    "    'name':'localhost',\n",
    "    'ip':'10.10.10.12',\n",
    "    'date': datetime.now(),\n",
    "#     'process': 200,\n",
    "}\n",
    "print(template.render(data))"
   ]
  },
  {
   "cell_type": "code",
   "execution_count": 73,
   "metadata": {},
   "outputs": [
    {
     "name": "stdout",
     "output_type": "stream",
     "text": [
      "\n",
      "    \n",
      "    Hello 1\n",
      "    \n",
      "    Хороший  Человек Петя \n",
      "    сказал 'Жизнь хороша'\n",
      "    \n",
      "    Плохой  Человек Вася \n",
      "    сказал 'Жизнь - так себе'\n",
      "       \n",
      "    Buy 1\n",
      "    \n",
      "    Hello 2\n",
      "    \n",
      "    Хороший  Человек Петя \n",
      "    сказал 'Жизнь хороша'\n",
      "    \n",
      "    Плохой  Человек Вася \n",
      "    сказал 'Жизнь - так себе'\n",
      "       \n",
      "    Buy 2\n",
      "       \n"
     ]
    }
   ],
   "source": [
    "from jinja2 import Template\n",
    "template = Template('''\n",
    "    {% for n in range(2) %}\n",
    "    Hello {{n + 1}}\n",
    "    {% for post in posts %}\n",
    "    {% if post.good %}Хороший {% else %}Плохой {% endif %} Человек {{post.author.nickname}} \n",
    "    сказал '{{post.body}}'\n",
    "    {% endfor %}   \n",
    "    Buy {{n + 1}}\n",
    "    {% endfor %}   \n",
    "''')\n",
    "posts = [ \n",
    "    { \n",
    "        'good': True,\n",
    "        'author': { 'nickname': 'Петя' }, \n",
    "        'body': 'Жизнь хороша' \n",
    "    },\n",
    "    { \n",
    "        'author': { 'nickname': 'Вася' }, \n",
    "        'body': 'Жизнь - так себе' \n",
    "    }\n",
    "]\n",
    "print(template.render(posts = posts))"
   ]
  },
  {
   "cell_type": "code",
   "execution_count": 21,
   "metadata": {},
   "outputs": [
    {
     "name": "stdout",
     "output_type": "stream",
     "text": [
      "name: Vladimir\n",
      "proffesion: Прогаммист\n",
      "Department: ОКОД\n"
     ]
    }
   ],
   "source": [
    "from jinja2 import Environment, FileSystemLoader\n",
    "env = Environment(loader=FileSystemLoader('templates'), trim_blocks=True)\n",
    "template = env.get_template('test_template.txt')\n",
    "data = {\n",
    "    'name':'Vladimir',\n",
    "    'job':'Прогаммист',\n",
    "    'dprt': 'ОКОД'\n",
    "}\n",
    "print(template.render(data))"
   ]
  },
  {
   "cell_type": "code",
   "execution_count": 28,
   "metadata": {},
   "outputs": [
    {
     "name": "stdout",
     "output_type": "stream",
     "text": [
      "name: Vladimir Yampolskiy\n",
      "proffesion: Programmer\n",
      "Department: Elikor\n"
     ]
    }
   ],
   "source": [
    "import json\n",
    "from jinja2 import Environment, FileSystemLoader\n",
    "env = Environment(loader=FileSystemLoader('templates'), trim_blocks=True)\n",
    "\n",
    "template = env.get_template('test_template.txt')\n",
    "with open(\"json/js1.json\") as f:\n",
    "    data = f.read()\n",
    "    data = json.loads(data)\n",
    "print(template.render(data))    "
   ]
  }
 ],
 "metadata": {
  "kernelspec": {
   "display_name": "Python 3",
   "language": "python",
   "name": "python3"
  },
  "language_info": {
   "codemirror_mode": {
    "name": "ipython",
    "version": 3
   },
   "file_extension": ".py",
   "mimetype": "text/x-python",
   "name": "python",
   "nbconvert_exporter": "python",
   "pygments_lexer": "ipython3",
   "version": "3.8.2"
  }
 },
 "nbformat": 4,
 "nbformat_minor": 4
}
