{
 "cells": [
  {
   "cell_type": "markdown",
   "metadata": {},
   "source": [
    "# Список подкаталогов"
   ]
  },
  {
   "cell_type": "code",
   "execution_count": 31,
   "metadata": {},
   "outputs": [
    {
     "name": "stdout",
     "output_type": "stream",
     "text": [
      "['D:\\\\Projects\\\\Python\\\\distrib',\n",
      " 'D:\\\\Projects\\\\Python\\\\DjangoTest',\n",
      " 'D:\\\\Projects\\\\Python\\\\exe',\n",
      " 'D:\\\\Projects\\\\Python\\\\Hello_World',\n",
      " 'D:\\\\Projects\\\\Python\\\\LibTestser',\n",
      " 'D:\\\\Projects\\\\Python\\\\notebooks',\n",
      " 'D:\\\\Projects\\\\Python\\\\PP4E-Examples-1.4',\n",
      " 'D:\\\\Projects\\\\Python\\\\testing_python',\n",
      " 'D:\\\\Projects\\\\Python\\\\whl']\n"
     ]
    }
   ],
   "source": [
    "import pprint\n",
    "from pathlib import Path\n",
    "p = Path(r'D:\\Projects\\Python')\n",
    "lst = [str(x) for x in p.iterdir() if x.is_dir()]\n",
    "pprint.pprint(lst)"
   ]
  },
  {
   "cell_type": "markdown",
   "metadata": {},
   "source": [
    "# Список файлов в каталоге и подкаталогах"
   ]
  },
  {
   "cell_type": "code",
   "execution_count": 22,
   "metadata": {
    "scrolled": true
   },
   "outputs": [
    {
     "name": "stdout",
     "output_type": "stream",
     "text": [
      "[WindowsPath('D:/Projects/Python/LibTestser/tools/ArrTools.py'),\n",
      " WindowsPath('D:/Projects/Python/LibTestser/tools/DigTools.py'),\n",
      " WindowsPath('D:/Projects/Python/LibTestser/tools/DigToText.py'),\n",
      " WindowsPath('D:/Projects/Python/LibTestser/tools/exceptions.py'),\n",
      " WindowsPath('D:/Projects/Python/LibTestser/tools/RusDate.py'),\n",
      " WindowsPath('D:/Projects/Python/LibTestser/tools/StrTools.py'),\n",
      " WindowsPath('D:/Projects/Python/LibTestser/tools/__init__.py'),\n",
      " WindowsPath('D:/Projects/Python/LibTestser/tools/db/Db.py'),\n",
      " WindowsPath('D:/Projects/Python/LibTestser/tools/db/DbManager.py'),\n",
      " WindowsPath('D:/Projects/Python/LibTestser/tools/db/DbTools.py'),\n",
      " WindowsPath('D:/Projects/Python/LibTestser/tools/db/SqlTools.py'),\n",
      " WindowsPath('D:/Projects/Python/LibTestser/tools/db/__init__.py')]\n"
     ]
    }
   ],
   "source": [
    "import pprint\n",
    "from pathlib import Path\n",
    "p = Path(r'D:\\Projects\\Python\\LibTestser\\tools')\n",
    "pprint.pprint(list(p.glob('**/*.py')))"
   ]
  },
  {
   "cell_type": "markdown",
   "metadata": {},
   "source": [
    "# Навигация"
   ]
  },
  {
   "cell_type": "code",
   "execution_count": 30,
   "metadata": {},
   "outputs": [
    {
     "name": "stdout",
     "output_type": "stream",
     "text": [
      "D:\\Projects\\Python\\LibTestser\\tools\n"
     ]
    }
   ],
   "source": [
    "import pprint\n",
    "from pathlib import Path\n",
    "p = Path(r'D:\\Projects\\Python')\n",
    "q = p / 'LibTestser' / 'tools'\n",
    "print(str(q))"
   ]
  },
  {
   "cell_type": "markdown",
   "metadata": {},
   "source": [
    "# Текущий и рабочий каталог"
   ]
  },
  {
   "cell_type": "code",
   "execution_count": 35,
   "metadata": {},
   "outputs": [
    {
     "name": "stdout",
     "output_type": "stream",
     "text": [
      "D:\\Projects\\Python\\notebooks\n",
      "C:\\Users\\Yampolskiy\n"
     ]
    }
   ],
   "source": [
    "from pathlib import Path\n",
    "current_dir = Path.cwd()\n",
    "home_dir = Path.home()\n",
    " \n",
    "print(current_dir)\n",
    "print(home_dir)"
   ]
  },
  {
   "cell_type": "markdown",
   "metadata": {},
   "source": [
    "# Популярные методы\n",
    "\n",
    "- Path.cwd(): Возвращает путь объекта текущей рабочей директории;\n",
    "- Path.home(): Возвращает путь объекта домашней директории;\n",
    "- Path.stat(): Возвращает информацию о пути;\n",
    "- Path.chmod(): Меняет режим и уровень доступа файла;\n",
    "- Path.glob(pattern): Получение всех файлов которые соответствую паттерну, например *.jpg (все картинки) или *.mp3 (все песни);\n",
    "- Path.mkdir(): создает новую папку по данному пути;\n",
    "- Path.open(): Открывает файл, созданный в пути;\n",
    "- Path.rename(): Переименовывает файл или директорию указанной цели;\n",
    "- Path.rmdir(): Удаляет пустую директорию;\n",
    "- Path.unlink(): Удаляет файл или символическую ссылку."
   ]
  },
  {
   "cell_type": "markdown",
   "metadata": {},
   "source": [
    "# Разное"
   ]
  },
  {
   "cell_type": "code",
   "execution_count": 69,
   "metadata": {},
   "outputs": [
    {
     "name": "stdout",
     "output_type": "stream",
     "text": [
      "D:\n",
      "('D:\\\\', 'Projects', 'Python', 'LibTestser\\tools', '__init__.py')\n",
      "__init__.py\n",
      "D:\\Projects\\Python\n",
      ".py\n",
      "D:\\\n",
      "D:\\Projects\\Python\\123\\abc\n",
      "True\n",
      "file:///D:/Projects/Python/LibTestser%09ools/__init__.py\n"
     ]
    }
   ],
   "source": [
    "from pathlib import *\n",
    "p = PureWindowsPath('D:\\Projects\\Python\\LibTestser\\tools\\__init__.py')\n",
    "print(p.drive)\n",
    "print(p.parts)\n",
    "print(p.name)\n",
    "print(p.parent.parent)\n",
    "print(p.suffix)\n",
    "print(p.anchor)\n",
    "print(p.parent.parent.joinpath('123', 'abc'))\n",
    "print(p.match('*.py'))\n",
    "print(p.as_uri())"
   ]
  },
  {
   "cell_type": "markdown",
   "metadata": {},
   "source": [
    "# Чтение и запись файлов"
   ]
  },
  {
   "cell_type": "code",
   "execution_count": 68,
   "metadata": {},
   "outputs": [
    {
     "name": "stdout",
     "output_type": "stream",
     "text": [
      "from dataclasses import dataclass\n",
      "\n",
      "\n",
      "@dataclass()\n",
      "class NotFoundException(Exception):\n",
      "    message:str = ''\n",
      "\n",
      "b\"from dataclasses import dataclass\\r\\n\\r\\n\\r\\n@dataclass()\\r\\nclass NotFoundException(Exception):\\r\\n    message:str = ''\\r\\n\"\n"
     ]
    },
    {
     "data": {
      "text/plain": [
       "112"
      ]
     },
     "execution_count": 68,
     "metadata": {},
     "output_type": "execute_result"
    }
   ],
   "source": [
    "from pathlib import *\n",
    "p = Path(r'D:\\Projects\\Python\\LibTestser\\tools\\exceptions.py')\n",
    "print(p.read_text())\n",
    "print(p.read_bytes())\n",
    "# p1 = Path(r'D:\\Projects\\Python\\LibTestser\\tools\\exceptions.py1')\n",
    "# p1.write_text('орпорпорпорпро')\n",
    "# p2 = Path(r'D:\\Projects\\Python\\LibTestser\\tools\\exceptions.py2')\n",
    "# p2.write_bytes(p.read_bytes())\n"
   ]
  }
 ],
 "metadata": {
  "kernelspec": {
   "display_name": "Python 3",
   "language": "python",
   "name": "python3"
  },
  "language_info": {
   "codemirror_mode": {
    "name": "ipython",
    "version": 3
   },
   "file_extension": ".py",
   "mimetype": "text/x-python",
   "name": "python",
   "nbconvert_exporter": "python",
   "pygments_lexer": "ipython3",
   "version": "3.8.2"
  }
 },
 "nbformat": 4,
 "nbformat_minor": 4
}
